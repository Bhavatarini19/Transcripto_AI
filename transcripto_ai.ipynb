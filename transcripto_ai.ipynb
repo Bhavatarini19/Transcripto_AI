{
 "cells": [
  {
   "cell_type": "code",
   "execution_count": 62,
   "id": "87f0acb3",
   "metadata": {},
   "outputs": [],
   "source": [
    "from youtube_transcript_api import YouTubeTranscriptApi\n",
    "from youtube_transcript_api._errors import NoTranscriptFound, TranscriptsDisabled, VideoUnavailable\n",
    "import os\n",
    "from dotenv import load_dotenv\n",
    "from IPython.display import display, Markdown\n",
    "from openai import OpenAI\n",
    "from pytube import YouTube\n"
   ]
  },
  {
   "cell_type": "code",
   "execution_count": 2,
   "id": "63b0809a",
   "metadata": {},
   "outputs": [],
   "source": [
    "load_dotenv(override=True)\n",
    "api_key = os.getenv('OPENAI_API_KEY')\n",
    "\n",
    "if not api_key:\n",
    "    print(\"No API key found. Please enter the API key properly\")\n",
    "elif not api_key.startswith(\"sk-proj-\"):\n",
    "    print(\"An API key was found but it doesn't start with sk-proj-; Please check whether you are using the right API key\")\n",
    "elif api_key.strip() != api_key:\n",
    "    print(\"An API key was found and it looks good so far!\")"
   ]
  },
  {
   "cell_type": "code",
   "execution_count": null,
   "id": "4d57c85e",
   "metadata": {},
   "outputs": [],
   "source": [
    "def get_transcript(videoId):\n",
    "    try:\n",
    "        transcripts = YouTubeTranscriptApi.list_transcripts(videoId)\n",
    "        try:\n",
    "            manual = transcripts.find_manually_created_transcript([\"en\"])\n",
    "            print(\"Manually created transcript found\")\n",
    "            return manual.fetch()\n",
    "        except NoTranscriptFound:\n",
    "            print(\"Not found- Manually created transcipt\")\n",
    "        try: \n",
    "            auto = transcripts.find_generated_transcript([\"en\"])\n",
    "            print(\"Auto generated transcript found\")\n",
    "            return auto.fetch()\n",
    "        except NoTranscriptFound:\n",
    "            print(\"Not found - Auto generated Transcript\")\n",
    "        return None\n",
    "    except TranscriptsDisabled:\n",
    "        print(\"Transcripts are disable for this video!\")\n",
    "        return None\n",
    "    except VideoUnavailable:\n",
    "        print(\"Video is unavailable or private\")\n",
    "        return None\n",
    "    except Exception as e:\n",
    "        print(\"Unexpected error\")\n",
    "        return None"
   ]
  },
  {
   "cell_type": "code",
   "execution_count": null,
   "id": "f86aae26",
   "metadata": {},
   "outputs": [
    {
     "name": "stdout",
     "output_type": "stream",
     "text": [
      "Not found- Manually created transcipt\n",
      "Auto generated transcript found\n",
      "foreign [Music] foreign [Music] ERS today we will be discussing the problem of the day which is jumping numbers so I found this problem absolutely very interesting so let us just quickly start hi vedant hi yes hi Shiva CR Lee fgmg gives me a present okay fair enough so let's start with this problem so I think you have already read about this problem now in this problem you are asked so let us first understand that you are given a value X and you need to find a value which is a magical number okay now the question is that you need to find the nearest magical number to x nearest means less than equal okay so now the question is what is a magical number so magical number means that the adjacent digits should have a difference equal to 1. Okay so summarizing everything in Hindi is less than equal to what digit okay digit name okay so now let us see so let us see some examples like we have one two so we can see that the adjacent values are differentiating by one then we have three two and three here also the adjacent values are getting differentiated by one okay there are some more examples that is given we are given 796 okay then you can see that in this number 7 and 9 has a difference of 2 and 9 and 6 has a difference of three so this is not equal to a magical number let us see some examples of magical number as you can see 89 and 87 8 and 9 difference is equals to 1 9 8 difference is equals to 1 and 8 and 7 is equals to difference of 1. okay and Sample a single digit number is also a magical number because it has no adjacent digits okay so now we are given X an output to this S10 y because 10 and 0 1 and 0 has a difference of 1 which is a magical number now the very first approach that should hit in your head is that how did we check that if the number is magical number or not we just iterate okay we just iterate on the number itself okay so we just iterate on the number and we can just see the difference between the digits if it is equal to 1 and it is same till the very end then it can be told if this is a magical number so what we can do is the given value is X so we can move from start from 1 till the value of x okay and then we can say that the last magical number that we encountered was the magical number we were looking for let us see the example suppose you are given 14 so what you need to do is you need to have 10 so 1 2 3 4 all are magical numbers one to nine because they have no addressing values so one two three four five six seven eight and nine they all are magical numbers then we have ten it is also a magical number then eleven eleven has one one so difference is equals to zero so not a magical number twelve one and two difference is equals to 1 so that magical number it is when 13 is not a magical number because the difference between 1 and 3 is equals to 2. so we can see the last encountered number is our magical number okay so now this is the very first Brute Force approach now let us understand what would be the time complexity of this solution so time complexity of the solution is that we first need to iterate from one till the value of x so what is the value x x can range up to 10 to the power 9. so basically we need to check 10 to the power 9 digits now checking 10 to the power 9 digit now just let us see to check one number in the worst scenario it can be as big as 10 to the power 9 that means it can have nine values so we can say that nine operation is required so 10 to the power 9 into 9 so we can say the time complexity is greater than 10 to the power 8 so we won't be able to pass the time limit okay so we need to think of a better approach okay am I clear till this point give me a quick one in the chat give me a quick one good morning sir no others not morning brother okay it's 12 in the night hi others hi Uncle hi vedant okay please teach us using your iPad fair enough okay anyone create on this point can I have a quick one in the chat okay we can remove the large digital [Music] um yes we can do like that okay parents now can we do better than this yes we can do better than this how so let us take the second example where X is given as 45 this is what is given X is so in the second example X is given as 50 sorry the answer is 45. okay so X is given as 50 here so now we can see that we are restricted somewhere how we are restricted somewhere if we just see that suppose after 1 the next value can be either 0 or the next value can be either 2. after 0 the next value can be either 1 or either okay or either minus one but minus one can't be there so let us not see this this won't act as a good example like after two next value can be either 3 or 1. okay so in the same manner what we can do is I will just show you okay this is like very intuitive okay why it is very intuitive because we saw that testing all the number is not feasible so the very next thing you can do is you can find out the important ones so agar if in a given task if completing all the tasks okay so suppose Suppose there is a big Forest okay Suppose there is a big Forest that is present okay like a big Forest let us say these are trees okay so these are trees about directories and some some trees have blue lines in it and suppose you are a Woodcutter and you know that if you try to go and look for each of the trees then it would be midnight that you would complete on the trees so what you decide to do is you try to think of a way in which you can have the trees which are needed by you okay so translating the same in Hindi is suppose um does this make sense or not give me a quick one in the chat does this make sense just give me a quick one if this makes sense okay seems like very less people are out there online so I would just okay so the very next thing is that we know that we need to think of something where we want the important ones okay so now what you can do is what we can do is we can think of the next one okay like build all the numbers suppose we start off with one we can start off with three we can start off with four we can start off with four and then we can start off with five more than five is not needed okay because we know that more than five more than five at here is not muted so from one you can move to zero you can move to 2. from 2 you can move to 1 you can move to three from three you can move to two you can move to four for four you can move to three you can move to five so five you can move to four you can move to six okay so now if you go and see for the next value then the number would be three digit number and three digit number is greater than two digit number so we won't go down but as you can see that the maximum among all this is our answer so you can see the maximum all this is our answer so what is this kind of thing this kind of thing seems like recursion now even if you are not if you are new even if you are not having this intuition from tree to recursion then you can think of that I need to generate all the answer possible answer I need to generate all the possible answers and I need to return the best one if at any point I need to generate all possible things then I need to think of in terms of recursion okay so now the solution is absolutely a very simple thing we would start off from 1 and we would go till the value 9 because there can be only 9 digits okay and the next value next corresponding value would be the value that would be till the less okay so now what we can do is like 1 0 then 1 2 after that 1 0 K Bar if we have 2 then this becomes large so we would ignore that then we would stop that if after 2 1 this becomes either 0 or either 2. okay so 2 1 0 is greater than 50 so we would exit 2 1 2 2 1 2 is greater than 50 so we would again exit so we would move forward till our maximum answer is less than equal to the value 50. okay now we would move to the implementation and we try to understand it okay so I would make this as lowercase x so now quickly give me a one in the chat if this recursive thing is clear or not like how the skin tuition is coming into picture okay just give me a quick one in the chat give me a quick one in the chat okay fair enough now let us move back to this part okay just let me make the font size create okay yes we can move forward now okay so I've made it lowercase M so I'm is my screen visible no my screen is not visible oops yes so what we would do is we would design a recursive function okay so the answer would be avoid function and we would name it as red as usual and then all the numbers are mentioned as field only known so we would start with a long long num and then we would start with Max I okay and then long long and then this would store the final value and it would be passed by reference we would start from 0 and we would have the maximum value so if at any point the number we are trying to produce this is the number that we are trying to produce this number becomes less than the given value X this number becomes greater than the given value X sorry not less greater than so 1 0 5 is greater than 50. we returned so in the same manner if this value is greater than the given value X then we would simply return okay we would simply return from this point what is Max file it's not right Max size it's right it's Excel as X only okay well if the number is greater than x so we would simply create all this okay now we would compare the value of ram so if we are coming till this point this means that the number is less than equal to X the number that we have produced up till now then what we would do is we would generate a new number okay a new number would be Okay add whereas we would take out the last value add plus 1 to it and then we would have subtract here last value of number minus 1 so we would just take out the last two digits add one and then next one subtract one now if after the after adding that digit suppose we have 9 then we add 1 at this point suppose num modulo 10 is equals to 9 okay 9 and then we add one so if after nine we add one then it value would be 10 but 10 is not a digit so we would just check okay we would click add is less than 10 or not okay less than 10 or not means what 0 till 9 okay so we would say if it is less than equal to 10 then Rec is equals to Red into 10 okay plus add the value okay what do you mean by this this just means that suppose earlier the value was 12. now we want to have 5 after it so 12 multiplied by 10 would make it 120 plus 5 would make it 125 this is what we are doing okay fair enough so let me clear this out so we would just have number into 10 multiplied by going and then the again the same value X to just see that we are within the boundary or not and then this value would be coming along okay fair enough so we are up till this point then after that if suppose the last value after subtracting is zero suppose the value was 1 we subtract 1. so the value was 1 we subtract one now the value is here but suppose the value was already 0 and we subtract one and the value is minus one okay so we won't be going in that direction because the given value of x is positive okay so one is definitely one would definitely be answered so we won't go in that direction also so sum should be greater than equal to the value of x okay this is not even required because one line is only there okay so then we have the rack of again num multiplied by 10 plus subtract the same thing would remain the same okay fair enough then at the end we would just return this is the very small code that we need to write then we have long long answer variable which is equal to minus one because we know that a number would either start from one or two three four five six seven eight nine there is no other value so we're going to start a loop from one and it would be less than equal to the value 10 and I plus less than equal to Value 9 or less than times okay and then we would have Rec of this value I this is the starting widget then the value X that is given and the answer variable that we need to deduct at the end we would simply return the answer this is not even required yes we're just compiling them and see how many errors are we making foreign this problem okay the time complexity is expected and the space complexity if we don't consider the recursion stack okay space complexity is bigger one because we are not using any extra auxiliary data structure now there also exists uh solution which is a BFS or a TFS based solution DFS is the same recursive one but I'm more interested suppose you give this Applause to the interviewer an interviewer is telling you that yes doing it with recursion is fine but suppose I want you to do it iteratively so now if you just observe that taking out that recursion tree can be done by using BFS also okay so you can just have a BFS and you can implement it record iteratively but I didn't found it intuitive even though it is given in the editorial that is why for me intuition is more important okay yes it is absolutely very easy to do but for me intuition please more importance than the solution itself so I try to move forward with a more intuitive approach so let me just explain you the transition from The Brute Force to the well yeah my expected one so suppose you saw that I need to test all the values so if I'm testing all the values then I am coming to the conclusion that I am getting a time limit exceeded so this means that I need to Traverse on the important ones because checking each of them is not feasible for me so important one paid rate karna so important one if you just draw it on a pencil paper what was the important one you would see and the important ones have very less region to go like from one we can either go to zero or go to two we don't have any other other ways to solve this one okay so we saw it is a tree kind of structure we need to generate all the possible balances generate all the possible answers tell us that yes this problem can be sort using recursion so I didn't found it units that BFS is our way okay that is why so that was it from my side if you have faced any issues and you are watching it on the recording part feel free to drop your doubts in the comment section so bro do you have any pet no actually what happened is I just shifted recently to a PG and this PG has has a pigeon with its small small childrens okay like there is one pigeon which has three children which are very small so I don't intend to disturb them because of the stream okay and whenever I turn on all the lights because of this pod they start shaping and all okay but I don't want to just remove this thing okay so that was it from my side anymore okay question where whether we have DFS or BFS both will take some extra space right uh DFS won't take extra space BFS would takes extra space why because you are storing you are storing all the numbers in the queue but DFS is a recursive based approach so recursion if you don't consider other recursive stack space then it it won't be okay yes DFS stack space is so Q would be taking space okay why because it is an auxiliary data structure we listen a lot of standards that is I really like them yes absolutely I I feed them also it gives me tle which one gives material where a y legs entity while d it would give you a daily it would give you a daily because basically what you are doing is you are just going in the direction of that also like from zero you are also going to minus one section also so from zero you can go to minus one but as you can see if the given value so what is the smallest value of x the smallest value of x is one so in the worst scenario also your value would be greater than one so if you just have a small condition that if the value we are forming becomes less than one you need to you need to exit from that thing that is why okay so any more further queries you have I would wait for the next 30 seconds and then I would turn this off okay so that was it from my side so if you are watching this after the stream or if you are here till this point of the solution consider liking the video and commenting on the video so that the reach of this video could be increased that is it for today thank you good night everyone\n"
     ]
    }
   ],
   "source": [
    "videoId = \"GGJ5k8U5ccM\"\n",
    "transcript = get_transcript(videoId)\n",
    "full_text = \" \"\n",
    "if transcript:\n",
    "    full_text = \" \".join([t.text for t in transcript.snippets])\n",
    "print(full_text)"
   ]
  },
  {
   "cell_type": "code",
   "execution_count": 35,
   "id": "49e5904b",
   "metadata": {},
   "outputs": [],
   "source": [
    "def get_video_title(url):\n",
    "    try:\n",
    "        yt = YouTube(url)\n",
    "        return yt.title\n",
    "    except Exception as e:\n",
    "        print(\"Title not found\")\n",
    "        return None"
   ]
  },
  {
   "cell_type": "code",
   "execution_count": 37,
   "id": "feccc9e0",
   "metadata": {},
   "outputs": [
    {
     "name": "stdout",
     "output_type": "stream",
     "text": [
      "Title not found\n"
     ]
    }
   ],
   "source": [
    "title = get_video_title(\"https://www.youtube.com/watch?v=GGJ5k8U5ccM\")"
   ]
  },
  {
   "cell_type": "code",
   "execution_count": 64,
   "id": "119f7dc9",
   "metadata": {},
   "outputs": [],
   "source": [
    "openai = OpenAI()\n",
    "system_prompt = \"You are an assistant that analyzes the contents of a transcript\\\n",
    "    and provide a title and short summary in mentioned langugae, ignoring text that is unwanted or navigation related.\\\n",
    "        respond in markdown.\""
   ]
  },
  {
   "cell_type": "code",
   "execution_count": 70,
   "id": "4aabd1e2",
   "metadata": {},
   "outputs": [],
   "source": [
    "def get_user_prompt(fulltext):\n",
    "    user_prompt = f\"You are looking at transcript of a youtube video and it is as follows\\\n",
    "        Please provide a title and short summary as paragraph with points in them for this video transcript in tamil in markdown.\\n\\n\"\n",
    "    user_prompt += full_text\n",
    "    return user_prompt"
   ]
  },
  {
   "cell_type": "code",
   "execution_count": 71,
   "id": "afb73083",
   "metadata": {},
   "outputs": [
    {
     "name": "stdout",
     "output_type": "stream",
     "text": [
      "You are looking at transcript of a youtube video and it is as follows        Please provide a title and short summary as paragraph with points in them for this video transcript in tamil in markdown.\n",
      "\n",
      "foreign [Music] foreign [Music] ERS today we will be discussing the problem of the day which is jumping numbers so I found this problem absolutely very interesting so let us just quickly start hi vedant hi yes hi Shiva CR Lee fgmg gives me a present okay fair enough so let's start with this problem so I think you have already read about this problem now in this problem you are asked so let us first understand that you are given a value X and you need to find a value which is a magical number okay now the question is that you need to find the nearest magical number to x nearest means less than equal okay so now the question is what is a magical number so magical number means that the adjacent digits should have a difference equal to 1. Okay so summarizing everything in Hindi is less than equal to what digit okay digit name okay so now let us see so let us see some examples like we have one two so we can see that the adjacent values are differentiating by one then we have three two and three here also the adjacent values are getting differentiated by one okay there are some more examples that is given we are given 796 okay then you can see that in this number 7 and 9 has a difference of 2 and 9 and 6 has a difference of three so this is not equal to a magical number let us see some examples of magical number as you can see 89 and 87 8 and 9 difference is equals to 1 9 8 difference is equals to 1 and 8 and 7 is equals to difference of 1. okay and Sample a single digit number is also a magical number because it has no adjacent digits okay so now we are given X an output to this S10 y because 10 and 0 1 and 0 has a difference of 1 which is a magical number now the very first approach that should hit in your head is that how did we check that if the number is magical number or not we just iterate okay we just iterate on the number itself okay so we just iterate on the number and we can just see the difference between the digits if it is equal to 1 and it is same till the very end then it can be told if this is a magical number so what we can do is the given value is X so we can move from start from 1 till the value of x okay and then we can say that the last magical number that we encountered was the magical number we were looking for let us see the example suppose you are given 14 so what you need to do is you need to have 10 so 1 2 3 4 all are magical numbers one to nine because they have no addressing values so one two three four five six seven eight and nine they all are magical numbers then we have ten it is also a magical number then eleven eleven has one one so difference is equals to zero so not a magical number twelve one and two difference is equals to 1 so that magical number it is when 13 is not a magical number because the difference between 1 and 3 is equals to 2. so we can see the last encountered number is our magical number okay so now this is the very first Brute Force approach now let us understand what would be the time complexity of this solution so time complexity of the solution is that we first need to iterate from one till the value of x so what is the value x x can range up to 10 to the power 9. so basically we need to check 10 to the power 9 digits now checking 10 to the power 9 digit now just let us see to check one number in the worst scenario it can be as big as 10 to the power 9 that means it can have nine values so we can say that nine operation is required so 10 to the power 9 into 9 so we can say the time complexity is greater than 10 to the power 8 so we won't be able to pass the time limit okay so we need to think of a better approach okay am I clear till this point give me a quick one in the chat give me a quick one good morning sir no others not morning brother okay it's 12 in the night hi others hi Uncle hi vedant okay please teach us using your iPad fair enough okay anyone create on this point can I have a quick one in the chat okay we can remove the large digital [Music] um yes we can do like that okay parents now can we do better than this yes we can do better than this how so let us take the second example where X is given as 45 this is what is given X is so in the second example X is given as 50 sorry the answer is 45. okay so X is given as 50 here so now we can see that we are restricted somewhere how we are restricted somewhere if we just see that suppose after 1 the next value can be either 0 or the next value can be either 2. after 0 the next value can be either 1 or either okay or either minus one but minus one can't be there so let us not see this this won't act as a good example like after two next value can be either 3 or 1. okay so in the same manner what we can do is I will just show you okay this is like very intuitive okay why it is very intuitive because we saw that testing all the number is not feasible so the very next thing you can do is you can find out the important ones so agar if in a given task if completing all the tasks okay so suppose Suppose there is a big Forest okay Suppose there is a big Forest that is present okay like a big Forest let us say these are trees okay so these are trees about directories and some some trees have blue lines in it and suppose you are a Woodcutter and you know that if you try to go and look for each of the trees then it would be midnight that you would complete on the trees so what you decide to do is you try to think of a way in which you can have the trees which are needed by you okay so translating the same in Hindi is suppose um does this make sense or not give me a quick one in the chat does this make sense just give me a quick one if this makes sense okay seems like very less people are out there online so I would just okay so the very next thing is that we know that we need to think of something where we want the important ones okay so now what you can do is what we can do is we can think of the next one okay like build all the numbers suppose we start off with one we can start off with three we can start off with four we can start off with four and then we can start off with five more than five is not needed okay because we know that more than five more than five at here is not muted so from one you can move to zero you can move to 2. from 2 you can move to 1 you can move to three from three you can move to two you can move to four for four you can move to three you can move to five so five you can move to four you can move to six okay so now if you go and see for the next value then the number would be three digit number and three digit number is greater than two digit number so we won't go down but as you can see that the maximum among all this is our answer so you can see the maximum all this is our answer so what is this kind of thing this kind of thing seems like recursion now even if you are not if you are new even if you are not having this intuition from tree to recursion then you can think of that I need to generate all the answer possible answer I need to generate all the possible answers and I need to return the best one if at any point I need to generate all possible things then I need to think of in terms of recursion okay so now the solution is absolutely a very simple thing we would start off from 1 and we would go till the value 9 because there can be only 9 digits okay and the next value next corresponding value would be the value that would be till the less okay so now what we can do is like 1 0 then 1 2 after that 1 0 K Bar if we have 2 then this becomes large so we would ignore that then we would stop that if after 2 1 this becomes either 0 or either 2. okay so 2 1 0 is greater than 50 so we would exit 2 1 2 2 1 2 is greater than 50 so we would again exit so we would move forward till our maximum answer is less than equal to the value 50. okay now we would move to the implementation and we try to understand it okay so I would make this as lowercase x so now quickly give me a one in the chat if this recursive thing is clear or not like how the skin tuition is coming into picture okay just give me a quick one in the chat give me a quick one in the chat okay fair enough now let us move back to this part okay just let me make the font size create okay yes we can move forward now okay so I've made it lowercase M so I'm is my screen visible no my screen is not visible oops yes so what we would do is we would design a recursive function okay so the answer would be avoid function and we would name it as red as usual and then all the numbers are mentioned as field only known so we would start with a long long num and then we would start with Max I okay and then long long and then this would store the final value and it would be passed by reference we would start from 0 and we would have the maximum value so if at any point the number we are trying to produce this is the number that we are trying to produce this number becomes less than the given value X this number becomes greater than the given value X sorry not less greater than so 1 0 5 is greater than 50. we returned so in the same manner if this value is greater than the given value X then we would simply return okay we would simply return from this point what is Max file it's not right Max size it's right it's Excel as X only okay well if the number is greater than x so we would simply create all this okay now we would compare the value of ram so if we are coming till this point this means that the number is less than equal to X the number that we have produced up till now then what we would do is we would generate a new number okay a new number would be Okay add whereas we would take out the last value add plus 1 to it and then we would have subtract here last value of number minus 1 so we would just take out the last two digits add one and then next one subtract one now if after the after adding that digit suppose we have 9 then we add 1 at this point suppose num modulo 10 is equals to 9 okay 9 and then we add one so if after nine we add one then it value would be 10 but 10 is not a digit so we would just check okay we would click add is less than 10 or not okay less than 10 or not means what 0 till 9 okay so we would say if it is less than equal to 10 then Rec is equals to Red into 10 okay plus add the value okay what do you mean by this this just means that suppose earlier the value was 12. now we want to have 5 after it so 12 multiplied by 10 would make it 120 plus 5 would make it 125 this is what we are doing okay fair enough so let me clear this out so we would just have number into 10 multiplied by going and then the again the same value X to just see that we are within the boundary or not and then this value would be coming along okay fair enough so we are up till this point then after that if suppose the last value after subtracting is zero suppose the value was 1 we subtract 1. so the value was 1 we subtract one now the value is here but suppose the value was already 0 and we subtract one and the value is minus one okay so we won't be going in that direction because the given value of x is positive okay so one is definitely one would definitely be answered so we won't go in that direction also so sum should be greater than equal to the value of x okay this is not even required because one line is only there okay so then we have the rack of again num multiplied by 10 plus subtract the same thing would remain the same okay fair enough then at the end we would just return this is the very small code that we need to write then we have long long answer variable which is equal to minus one because we know that a number would either start from one or two three four five six seven eight nine there is no other value so we're going to start a loop from one and it would be less than equal to the value 10 and I plus less than equal to Value 9 or less than times okay and then we would have Rec of this value I this is the starting widget then the value X that is given and the answer variable that we need to deduct at the end we would simply return the answer this is not even required yes we're just compiling them and see how many errors are we making foreign this problem okay the time complexity is expected and the space complexity if we don't consider the recursion stack okay space complexity is bigger one because we are not using any extra auxiliary data structure now there also exists uh solution which is a BFS or a TFS based solution DFS is the same recursive one but I'm more interested suppose you give this Applause to the interviewer an interviewer is telling you that yes doing it with recursion is fine but suppose I want you to do it iteratively so now if you just observe that taking out that recursion tree can be done by using BFS also okay so you can just have a BFS and you can implement it record iteratively but I didn't found it intuitive even though it is given in the editorial that is why for me intuition is more important okay yes it is absolutely very easy to do but for me intuition please more importance than the solution itself so I try to move forward with a more intuitive approach so let me just explain you the transition from The Brute Force to the well yeah my expected one so suppose you saw that I need to test all the values so if I'm testing all the values then I am coming to the conclusion that I am getting a time limit exceeded so this means that I need to Traverse on the important ones because checking each of them is not feasible for me so important one paid rate karna so important one if you just draw it on a pencil paper what was the important one you would see and the important ones have very less region to go like from one we can either go to zero or go to two we don't have any other other ways to solve this one okay so we saw it is a tree kind of structure we need to generate all the possible balances generate all the possible answers tell us that yes this problem can be sort using recursion so I didn't found it units that BFS is our way okay that is why so that was it from my side if you have faced any issues and you are watching it on the recording part feel free to drop your doubts in the comment section so bro do you have any pet no actually what happened is I just shifted recently to a PG and this PG has has a pigeon with its small small childrens okay like there is one pigeon which has three children which are very small so I don't intend to disturb them because of the stream okay and whenever I turn on all the lights because of this pod they start shaping and all okay but I don't want to just remove this thing okay so that was it from my side anymore okay question where whether we have DFS or BFS both will take some extra space right uh DFS won't take extra space BFS would takes extra space why because you are storing you are storing all the numbers in the queue but DFS is a recursive based approach so recursion if you don't consider other recursive stack space then it it won't be okay yes DFS stack space is so Q would be taking space okay why because it is an auxiliary data structure we listen a lot of standards that is I really like them yes absolutely I I feed them also it gives me tle which one gives material where a y legs entity while d it would give you a daily it would give you a daily because basically what you are doing is you are just going in the direction of that also like from zero you are also going to minus one section also so from zero you can go to minus one but as you can see if the given value so what is the smallest value of x the smallest value of x is one so in the worst scenario also your value would be greater than one so if you just have a small condition that if the value we are forming becomes less than one you need to you need to exit from that thing that is why okay so any more further queries you have I would wait for the next 30 seconds and then I would turn this off okay so that was it from my side so if you are watching this after the stream or if you are here till this point of the solution consider liking the video and commenting on the video so that the reach of this video could be increased that is it for today thank you good night everyone\n"
     ]
    }
   ],
   "source": [
    "print(get_user_prompt(full_text))"
   ]
  },
  {
   "cell_type": "code",
   "execution_count": 72,
   "id": "60fefeaa",
   "metadata": {},
   "outputs": [],
   "source": [
    "message = [\n",
    "    {\"role\" : \"system\", \"content\" : system_prompt},\n",
    "    {\"role\" : \"user\", \"content\" : get_user_prompt(full_text)}\n",
    "]"
   ]
  },
  {
   "cell_type": "code",
   "execution_count": 73,
   "id": "16158a4b",
   "metadata": {},
   "outputs": [],
   "source": [
    "def summarize():\n",
    "    response = openai.chat.completions.create(\n",
    "        model = \"gpt-4o-mini\",\n",
    "        messages = message\n",
    "    )\n",
    "    return response.choices[0].message.content"
   ]
  },
  {
   "cell_type": "code",
   "execution_count": 74,
   "id": "ba729e5e",
   "metadata": {},
   "outputs": [
    {
     "data": {
      "text/plain": [
       "\"# குதி எண்கள் (Jumping Numbers)\\n\\nஇந்த வீடியோவில் 'குதி எண்கள்' என்ற சிக்கலுக்கு அறிவுரை வழங்கப்படுகிறது. இங்கு பரந்த விளக்கங்களுடன், முக்கிய புள்ளிகள் கீழே வழங்கப்பட்டுள்ளன:\\n\\n- **சிக்கல் விளக்கம்**: குதிக்கின்ற எண்கள் ஒரு பொருள், அதில் அடுத்த அடுக்கு எண்களுக்கு இடையே மாறுபாடு 1 ஆக இருக்க வேண்டும்.\\n- **உதாரணங்கள்**: 89 மற்றும் 87 ஆகிய எண்கள் குதிக்கின்ற எண்கள், ஆனால் 796 மாதிரியான எண்கள் அல்ல.\\n- **முதல் அணுகுமுறை**: வழங்கப்படும் எண்ணிற்குள் (X) அனைத்துக் குதிக்கின்ற எண்களை சரிபார்க்கும் முறையே குதிக்கின்ற எண்ணை கண்டறியலாம்.\\n- **காலக்கNevertheless**: X வரம்பு 10^9 ஆக இருக்க முடியும்; எனவே, எல்லா எண்ணையும் சரிபார்க்கும் முறையின் காலநிலை நேரத்தின் மூலமாக அதிகமாக ஆகும்.\\n- **அடுத்த அணுகுமுறை**: ஒரு தரவுப் மரம் உருவாக்கி, கணக்கிடும் முறையை மேம்படுத்துவது மற்றும் பிரத்தியேகமான எண்ணைக் கணக்கிடுவதை பேசுகிறது.\\n- **கோடைமை (Recursive Approach)**: குறிப்பிட்ட முறைப்படி எண்ணுகளை உருவாக்கி, அதன் அடிப்படையில் மனுஷ்யத்தை வடிவமைப்பது.\\n\\nஇது கோடுகளை உருவாக்க, நிலைத்த சிக்கல்களை தீர்க்க பயன்படுத்தப்படுகிறது. \""
      ]
     },
     "execution_count": 74,
     "metadata": {},
     "output_type": "execute_result"
    }
   ],
   "source": [
    "summarize()"
   ]
  },
  {
   "cell_type": "code",
   "execution_count": 75,
   "id": "88739999",
   "metadata": {},
   "outputs": [],
   "source": [
    "def display_summary():\n",
    "    summary = summarize()\n",
    "    display(Markdown(summary))"
   ]
  },
  {
   "cell_type": "code",
   "execution_count": 76,
   "id": "456d32c7",
   "metadata": {},
   "outputs": [
    {
     "data": {
      "text/markdown": [
       "# கூட்டிய எண்கள் - ஒரு மந்திர எண் தேடல்\n",
       "\n",
       "இந்த காணொளியில் 'கூட்டிய எண்கள்' என்ற சிக்கலுக்கு உரித்தான விவாதம் இடம்பெற்றது. அதிலுள்ள முக்கிய அம்சங்கள்:\n",
       "\n",
       "- **மந்திர எண்:** அடுத்த பட்டியலிலுள்ள எண்களின் இடைவெளி 1 ஆக இருக்க வேண்டும்.\n",
       "- **குழப்பம்:** காணொளியில், எண்களை கழித்து எண்ண்பவர்களுக்கான தொடக்கத்திற்காக மதிப்பீடு செய்ய வேண்டிய மந்திர எண்ணை கண்டுபிடிக்க விரும்புகிறோம்.\n",
       "- **எண் எடுத்துக்காட்டுகள்:** 89 மற்றும் 87 ஆகிய எண்கள் மந்திர எண்களாகவும், 796 எண் மந்திர எண் இதழுக்கு உட்பட்டதல்ல.\n",
       "- **முதல் அணுகுமுறை:** சாதாரண ஒழுங்கில் ஒரு முதல் எண்ணிலிருந்து x வரையிலான அனைத்து எண்களையும் பரிசோதிக்கிறது.\n",
       "- **இணைப்பு:** ஒரு எண் மந்திர எண் என காணப்படுதா என்பதை உறுதிப்படுத்தும் முறை.\n",
       "- **காலத் தாமதம்:** முதன்மை கூறுகளின் எண்ணிக்கையை சரிபார்க்கவேண்டிய ஒருபாடு பெற்றால், இது 10^9 என்பதால் செயலதிகாரம் அதிகம் ஆகும்.\n",
       "- **மீண்டும் அணுகுமுறை:** ஓரளவுக்கு கணினியியல் புத்திசாலித்தனம் மூலம் முக்கிய எண்களை வைத்துக்கொண்டு தீர்வுகளை உருவாக்குதல்."
      ],
      "text/plain": [
       "<IPython.core.display.Markdown object>"
      ]
     },
     "metadata": {},
     "output_type": "display_data"
    }
   ],
   "source": [
    "display_summary()"
   ]
  },
  {
   "cell_type": "code",
   "execution_count": null,
   "id": "d394e336",
   "metadata": {},
   "outputs": [],
   "source": []
  },
  {
   "cell_type": "code",
   "execution_count": null,
   "id": "df56dbf3",
   "metadata": {},
   "outputs": [],
   "source": []
  }
 ],
 "metadata": {
  "kernelspec": {
   "display_name": "Python 3",
   "language": "python",
   "name": "python3"
  },
  "language_info": {
   "codemirror_mode": {
    "name": "ipython",
    "version": 3
   },
   "file_extension": ".py",
   "mimetype": "text/x-python",
   "name": "python",
   "nbconvert_exporter": "python",
   "pygments_lexer": "ipython3",
   "version": "3.10.18"
  }
 },
 "nbformat": 4,
 "nbformat_minor": 5
}
